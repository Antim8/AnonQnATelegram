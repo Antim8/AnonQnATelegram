{
 "cells": [
  {
   "cell_type": "code",
   "execution_count": 46,
   "metadata": {},
   "outputs": [],
   "source": [
    "import sqlite3 as sl\n",
    "import os \n",
    "from dotenv import load_dotenv"
   ]
  },
  {
   "cell_type": "code",
   "execution_count": 47,
   "metadata": {},
   "outputs": [],
   "source": [
    "load_dotenv()\n",
    "DB_NAME = os.environ.get(\"DB_NAME\")\n",
    "con = sl.connect(DB_NAME)"
   ]
  },
  {
   "cell_type": "code",
   "execution_count": 48,
   "metadata": {},
   "outputs": [],
   "source": [
    "with con:\n",
    "    con.execute(\"\"\"\n",
    "                CREATE TABLE USER (\n",
    "                    id INTEGER NOT NULL PRIMARY KEY AUTOINCREMENT,\n",
    "                    telegram_id INTEGER NOT NULL,\n",
    "                    q_proposed INTEGER DEFAULT 0 NOT NULL,\n",
    "                    a_given INTEGER DEFAULT 0 NOT NULL,\n",
    "                    been_reported INTEGER DEFAULT 0 NOT NULL,\n",
    "                    has_reported INTEGER DEFAULT 0 NOT NULL,\n",
    "                    last_reported DATETIME,\n",
    "                    banned_until DATE\n",
    "                );\n",
    "    \"\"\")"
   ]
  },
  {
   "cell_type": "code",
   "execution_count": 49,
   "metadata": {},
   "outputs": [],
   "source": [
    "with con:\n",
    "    con.execute(\"\"\"\n",
    "                INSERT INTO USER (telegram_id) values(0);\n",
    "                \"\"\")"
   ]
  },
  {
   "cell_type": "code",
   "execution_count": 50,
   "metadata": {},
   "outputs": [],
   "source": [
    "with con:\n",
    "    con.execute(\"\"\"\n",
    "                CREATE TABLE QUESTIONS(\n",
    "                    id INTEGER NOT NULL PRIMARY KEY AUTOINCREMENT,\n",
    "                    user_id INTEGER,\n",
    "                    q_text TEXT NOT NULL,\n",
    "                    num_reported INTEGER DEFAULT 0 NOT NULL,\n",
    "                    num_answers INTEGER DEFAULT 0 NOT NULL,\n",
    "                    created_at DATETIME DEFAULT (datetime('now','localtime')),\n",
    "                    message_id INTEGER,\n",
    "                    banned BOOLEAN DEFAULT 0 NOT NULL,\n",
    "                    FOREIGN KEY(user_id) REFERENCES USER(id)\n",
    "                );\n",
    "    \"\"\")"
   ]
  },
  {
   "cell_type": "code",
   "execution_count": 51,
   "metadata": {},
   "outputs": [],
   "source": [
    "with con:\n",
    "    con.execute(\"\"\"\n",
    "                INSERT INTO QUESTIONS (user_id, q_text) values(1, \"\");\n",
    "                \"\"\")"
   ]
  },
  {
   "cell_type": "code",
   "execution_count": 52,
   "metadata": {},
   "outputs": [],
   "source": [
    "with con:\n",
    "    con.execute(\"\"\"\n",
    "                CREATE TABLE ANSWERS(\n",
    "                    id INTEGER NOT NULL PRIMARY KEY AUTOINCREMENT,\n",
    "                    q_id INTEGER,\n",
    "                    user_id INTEGER,\n",
    "                    a_text TEXT NOT NULL,\n",
    "                    anon BOOLEAN NOT NULL CHECK (anon IN(0, 1)),\n",
    "                    in_group BOOLEAN NOT NULL CHECK (in_group IN(0, 1)),\n",
    "                    num_reported INTEGER DEFAULT 0 NOT NULL,\n",
    "                    created_at DATETIME DEFAULT (datetime('now','localtime')),\n",
    "                    message_id INTEGER,\n",
    "                    banned BOOLEAN DEFAULT 0 NOT NULL,\n",
    "                    FOREIGN KEY(q_id) REFERENCES QUESTIONS(id),\n",
    "                    FOREIGN KEY(user_id) REFERENCES USERS(id)\n",
    "                );\n",
    "    \"\"\")"
   ]
  },
  {
   "cell_type": "code",
   "execution_count": 53,
   "metadata": {},
   "outputs": [],
   "source": [
    "with con:\n",
    "    con.execute(\"\"\"\n",
    "                INSERT INTO ANSWERS (q_id, user_id, a_text, anon, in_group) values (1, 1, \"\", 0, 0);\n",
    "                \"\"\")"
   ]
  },
  {
   "cell_type": "code",
   "execution_count": 54,
   "metadata": {},
   "outputs": [],
   "source": [
    "#TODO Delte from Table when older than x (run regularly)\n",
    "\n",
    "with con:\n",
    "    con.execute(\"\"\"\n",
    "                CREATE TABLE REPORTS(\n",
    "                    id INTEGER NOT NULL PRIMARY KEY AUTOINCREMENT,\n",
    "                    reporter_id INTEGER,\n",
    "                    reported_user_id INTEGER,\n",
    "                    reported_q_id INTEGER DEFAULT 1,\n",
    "                    reported_a_id INTEGER DEFAULT 1,\n",
    "                    why TEXT,\n",
    "                    reported_at DATETIME DEFAULT (datetime('now', 'localtime')),\n",
    "                    FOREIGN KEY(reporter_id) REFERENCES USER(id),\n",
    "                    FOREIGN KEY(reported_user_id) REFERENCES USER(id),\n",
    "                    FOREIGN KEY(reported_q_id) REFERENCES QUESTIONS(id),\n",
    "                    FOREIGN KEY(reported_a_id) REFERENCES ANSWERS(id)\n",
    "                );\n",
    "    \"\"\")"
   ]
  }
 ],
 "metadata": {
  "kernelspec": {
   "display_name": "Python 3.9.9 64-bit ('3.9.9')",
   "language": "python",
   "name": "python3"
  },
  "language_info": {
   "codemirror_mode": {
    "name": "ipython",
    "version": 3
   },
   "file_extension": ".py",
   "mimetype": "text/x-python",
   "name": "python",
   "nbconvert_exporter": "python",
   "pygments_lexer": "ipython3",
   "version": "3.9.9"
  },
  "orig_nbformat": 4,
  "vscode": {
   "interpreter": {
    "hash": "066382efaafd977fc993f59ab64d03ab6de97208b58202e78054d264f60fd969"
   }
  }
 },
 "nbformat": 4,
 "nbformat_minor": 2
}
